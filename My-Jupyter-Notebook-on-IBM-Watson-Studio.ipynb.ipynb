{
 "cells": [
  {
   "cell_type": "markdown",
   "metadata": {},
   "source": [
    "<center>\n",
    "    <img src=\"https://cf-courses-data.s3.us.cloud-object-storage.appdomain.cloud/IBMDeveloperSkillsNetwork-DS0105EN-SkillsNetwork/labs/Module2/images/SN_web_lightmode.png\" width=\"300\" alt=\"cognitiveclass.ai logo\">\n",
    "</center>\n"
   ]
  },
  {
   "cell_type": "markdown",
   "metadata": {},
   "source": [
    "#### Add your code below following the instructions given in the course\n"
   ]
  },
  {
   "cell_type": "markdown",
   "metadata": {},
   "source": [
    "# My Jupyter Notebook on IBM Watson Studio"
   ]
  },
  {
   "cell_type": "markdown",
   "metadata": {
    "tags": []
   },
   "source": [
    "### **Ashwin Jamgade**\n",
    "Data scientist in Finance Sector"
   ]
  },
  {
   "cell_type": "markdown",
   "metadata": {},
   "source": [
    "*I have a keen intrest in data science because I find the deep learning Enjoyable.*"
   ]
  },
  {
   "cell_type": "markdown",
   "metadata": {},
   "source": [
    "## Code will Solve the Quadratic Equation"
   ]
  },
  {
   "cell_type": "code",
   "execution_count": 9,
   "metadata": {},
   "outputs": [
    {
     "name": "stdout",
     "output_type": "stream",
     "text": [
      "The Solution are (-3+0j) and (-2+0j)\n"
     ]
    }
   ],
   "source": [
    "# Solve the quadratic equation ax**2 + bx =+ c = 0\n",
    "import cmath\n",
    "a = 1\n",
    "b = 5 \n",
    "c = 6\n",
    "\n",
    "# Calculate the discriminant\n",
    "\n",
    "d = (b**2) - (4*a*c) \n",
    "\n",
    "# find the Solution\n",
    "\n",
    "Sol1 = ( -b-cmath.sqrt(d))/(2*a)\n",
    "Sol2 = ( -b+cmath.sqrt(d))/(2*a)\n",
    "\n",
    "print('The Solution are {0} and {1}'.format(Sol1,Sol2))"
   ]
  },
  {
   "cell_type": "markdown",
   "metadata": {},
   "source": [
    "* **Two**\n",
    "* **Three**\n",
    "* **Two**\n",
    "* **One**\n",
    "* **Five**\n",
    "* **Six**\n",
    "* **Seven**\n",
    "* **Eight**\n",
    "* **Nine**\n",
    "* **Ten**"
   ]
  },
  {
   "cell_type": "markdown",
   "metadata": {},
   "source": [
    "[Google](https://www.google.co.in/ \"to know anyting Please Visit website\")\n",
    "[Youtube](https://www.youtube.com/ \"Hit me to watch videos\")\n"
   ]
  },
  {
   "cell_type": "code",
   "execution_count": null,
   "metadata": {},
   "outputs": [],
   "source": []
  }
 ],
 "metadata": {
  "kernelspec": {
   "display_name": "Python",
   "language": "python",
   "name": "conda-env-python-py"
  },
  "language_info": {
   "codemirror_mode": {
    "name": "ipython",
    "version": 3
   },
   "file_extension": ".py",
   "mimetype": "text/x-python",
   "name": "python",
   "nbconvert_exporter": "python",
   "pygments_lexer": "ipython3",
   "version": "3.7.12"
  }
 },
 "nbformat": 4,
 "nbformat_minor": 4
}
