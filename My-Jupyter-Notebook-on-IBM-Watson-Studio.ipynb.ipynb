{
 "cells": [
  {
   "cell_type": "markdown",
   "id": "db8bdad3-cf24-46af-a44a-179e971ed935",
   "metadata": {},
   "source": [
    "# My Jupyter Notebook on IBM Watson Studio\n"
   ]
  },
  {
   "cell_type": "markdown",
   "id": "906435ff-9bfd-4dda-af2a-44b44c4a6a95",
   "metadata": {},
   "source": [
    "Data Scientist"
   ]
  },
  {
   "cell_type": "markdown",
   "id": "8d98b6db-fcaa-4633-8eef-ee79e34ce27a",
   "metadata": {},
   "source": [
    "*I have a keen intrest in data science because I find the deep learning Enjoyable.*"
   ]
  },
  {
   "cell_type": "markdown",
   "id": "50911785-196a-47d7-8b03-cb406f7b0f39",
   "metadata": {},
   "source": [
    "## This Program will Print Greetings"
   ]
  },
  {
   "cell_type": "code",
   "execution_count": 5,
   "id": "6f614a50-267b-4e1e-bc5b-e92ef25ee023",
   "metadata": {},
   "outputs": [],
   "source": [
    "P='Thank You Coursera for giving me this Opportunity'"
   ]
  },
  {
   "cell_type": "code",
   "execution_count": 6,
   "id": "5444e820-bc30-4f71-8d13-a8dcfa316a3a",
   "metadata": {},
   "outputs": [
    {
     "name": "stdout",
     "output_type": "stream",
     "text": [
      "Thank You Coursera for giving me this Opportunity\n"
     ]
    }
   ],
   "source": [
    "print(P)"
   ]
  },
  {
   "cell_type": "code",
   "execution_count": 16,
   "id": "c1092947-246d-4df0-bae1-260cf710d5c6",
   "metadata": {},
   "outputs": [],
   "source": [
    "N='Thank you so much whoever is evaluating my assignment,'"
   ]
  },
  {
   "cell_type": "code",
   "execution_count": 17,
   "id": "f703b3b1-868a-4089-bced-b5e0f5e6e84c",
   "metadata": {},
   "outputs": [
    {
     "name": "stdout",
     "output_type": "stream",
     "text": [
      "Thank you so much whoever is evaluating my assignment, Thank You Coursera for giving me this Opportunity\n"
     ]
    }
   ],
   "source": [
    "print(N,P)\n"
   ]
  },
  {
   "cell_type": "code",
   "execution_count": null,
   "id": "8e704de9-b1ec-4652-89bd-a1da46eb3cfc",
   "metadata": {},
   "outputs": [],
   "source": []
  }
 ],
 "metadata": {
  "kernelspec": {
   "display_name": "Python",
   "language": "python",
   "name": "conda-env-python-py"
  },
  "language_info": {
   "codemirror_mode": {
    "name": "ipython",
    "version": 3
   },
   "file_extension": ".py",
   "mimetype": "text/x-python",
   "name": "python",
   "nbconvert_exporter": "python",
   "pygments_lexer": "ipython3",
   "version": "3.7.12"
  }
 },
 "nbformat": 4,
 "nbformat_minor": 5
}
